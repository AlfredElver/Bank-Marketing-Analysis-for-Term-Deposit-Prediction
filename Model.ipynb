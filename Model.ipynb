{
 "cells": [
  {
   "cell_type": "markdown",
   "id": "40abd3db",
   "metadata": {},
   "source": [
    "# ML Models for Bank Marketing Analysis"
   ]
  },
  {
   "cell_type": "code",
   "execution_count": 591,
   "id": "d79c2861",
   "metadata": {},
   "outputs": [],
   "source": [
    "import matplotlib.pyplot as plt\n",
    "import time\n",
    "import numpy as np\n",
    "import pandas as pd\n",
    "import seaborn as sns\n",
    "import missingno #find missing data\n",
    "from sklearn.model_selection import train_test_split\n",
    "from sklearn.feature_selection import RFE, RFECV\n",
    "from sklearn.svm import SVR\n",
    "from sklearn.decomposition import PCA\n",
    "from sklearn.neighbors import KNeighborsClassifier\n",
    "from sklearn.calibration import CalibratedClassifierCV\n",
    "from sklearn.metrics import roc_auc_score\n",
    "from sklearn.preprocessing import StandardScaler\n",
    "from sklearn import datasets, model_selection, tree, preprocessing, metrics, linear_model\n",
    "from sklearn.linear_model import LogisticRegression\n",
    "from sklearn.ensemble import RandomForestClassifier\n",
    "from sklearn.manifold import TSNE\n",
    "from sklearn.model_selection import RandomizedSearchCV\n",
    "from sklearn.linear_model import SGDClassifier\n",
    "from sklearn.naive_bayes import GaussianNB\n",
    "from sklearn.tree import DecisionTreeClassifier\n",
    "from sklearn.ensemble import GradientBoostingClassifier\n",
    "from sklearn.svm import LinearSVC\n",
    "from sklearn.ensemble import BaggingClassifier\n",
    "from sklearn.ensemble import AdaBoostClassifier \n",
    "from sklearn.model_selection import GridSearchCV\n",
    "from sklearn import svm\n",
    "from sklearn.ensemble import VotingClassifier\n",
    "from scipy.stats import randint as sp_randint\n",
    "import datetime\n",
    "import xgboost as xgb\n",
    "from xgboost import XGBClassifier\n",
    "import warnings\n",
    "warnings.filterwarnings(\"ignore\")\n",
    "from sklearn.metrics import f1_score, precision_score, recall_score\n",
    "from sklearn.metrics import cohen_kappa_score\n",
    "\n",
    "%matplotlib inline"
   ]
  },
  {
   "cell_type": "code",
   "execution_count": 592,
   "id": "8b6b3cae",
   "metadata": {},
   "outputs": [],
   "source": [
    "# Loading the preprocessed Data\n",
    "df = pd.read_csv(r\"C:\\Users\\Admin\\Downloads\\gl\\CAPSTONE\\BANK MARKETING\\new dataset with 20 input\\bank-additional\\data.csv\")"
   ]
  },
  {
   "cell_type": "code",
   "execution_count": null,
   "id": "6e79f463",
   "metadata": {},
   "outputs": [],
   "source": []
  },
  {
   "cell_type": "code",
   "execution_count": null,
   "id": "4c172c94",
   "metadata": {},
   "outputs": [],
   "source": []
  },
  {
   "cell_type": "code",
   "execution_count": null,
   "id": "7080e666",
   "metadata": {},
   "outputs": [],
   "source": []
  },
  {
   "cell_type": "code",
   "execution_count": null,
   "id": "ae76d0e7",
   "metadata": {},
   "outputs": [],
   "source": []
  },
  {
   "cell_type": "markdown",
   "id": "1b798536",
   "metadata": {},
   "source": [
    "# Train Test Split"
   ]
  },
  {
   "cell_type": "code",
   "execution_count": 593,
   "id": "801dc54f",
   "metadata": {},
   "outputs": [],
   "source": [
    "y=df[\"y\"]\n",
    "X=df.drop(\"y\",axis=1)\n",
    "\n",
    "from sklearn.model_selection import train_test_split\n",
    "X_train,X_test,y_train,y_test=train_test_split(X,y,test_size=0.33,random_state=10)"
   ]
  },
  {
   "cell_type": "markdown",
   "id": "e0e896a1",
   "metadata": {},
   "source": [
    "# Transformation and WoE Encoding"
   ]
  },
  {
   "cell_type": "code",
   "execution_count": 594,
   "id": "c57c279f",
   "metadata": {},
   "outputs": [],
   "source": [
    "from sklearn.preprocessing import PowerTransformer\n",
    "pt = PowerTransformer()\n",
    "for i in X_train.select_dtypes(exclude=\"object\").columns:\n",
    "    X_train[i] = pt.fit_transform(X_train[[i]])\n",
    "    X_test[i] = pt.transform(X_test[[i]])"
   ]
  },
  {
   "cell_type": "code",
   "execution_count": 595,
   "id": "b39de149",
   "metadata": {},
   "outputs": [],
   "source": [
    "# for encoding using feature-engine\n",
    "from feature_engine.encoding import WoEEncoder as fe_WoEEncoder\n",
    "from category_encoders.woe import WOEEncoder\n",
    "woe_enc = fe_WoEEncoder(variables=[\"agegroup2\",\"poutcome\",'job','marital', 'education', 'housing','loan', 'contact','day_of_week',\"month\"])\n",
    "woe_enc.fit(X_train, y_train)\n",
    "\n",
    "X_train = woe_enc.transform(X_train)\n",
    "X_test = woe_enc.transform(X_test)"
   ]
  },
  {
   "cell_type": "code",
   "execution_count": null,
   "id": "7dd1c3f9",
   "metadata": {},
   "outputs": [],
   "source": []
  },
  {
   "cell_type": "markdown",
   "id": "90eed3fc",
   "metadata": {},
   "source": [
    "# Algorithms"
   ]
  },
  {
   "cell_type": "markdown",
   "id": "dac35d47",
   "metadata": {},
   "source": [
    "We are going to use algorithms to find the best model for the business problem\n",
    "The proposed Algorithms are\n",
    "\n",
    "- Logistic Regression\n",
    "- Random Forest\n",
    "- Naive Bayes\n",
    "- Decision Tree\n",
    "- Gradient Boosted Trees\n",
    "- BaggingClassifier\n",
    "- AdaBoostClassifier \n",
    "- XGBoost\n",
    "- Linear SVC"
   ]
  },
  {
   "cell_type": "markdown",
   "id": "d0213d30",
   "metadata": {},
   "source": [
    "There is a possibility that there will be lot of repitition of code since we are using multiple algorithms to compare<br>\n",
    "User defined functions are written to avoid this repitition"
   ]
  },
  {
   "cell_type": "markdown",
   "id": "85f261cd",
   "metadata": {},
   "source": [
    "## User defined functions"
   ]
  },
  {
   "cell_type": "markdown",
   "id": "db58e516",
   "metadata": {},
   "source": [
    "- Function to run the defined algorithms and return accuracy metrics"
   ]
  },
  {
   "cell_type": "code",
   "execution_count": 596,
   "id": "86c1a331",
   "metadata": {},
   "outputs": [],
   "source": [
    "# Function that runs the requested algorithm and returns the accuracy metrics\n",
    "def algo(algo, X_train, y_train, X_test, cv):\n",
    "    # One Pass\n",
    "    model = algo.fit(X_train, y_train)\n",
    "    test_pred = model.predict(X_test)\n",
    "    fmeasure1 = round(f1_score(y_test, test_pred, average=\"macro\")*100,2)\n",
    "    \n",
    "    if (isinstance(algo, (LogisticRegression, \n",
    "                          KNeighborsClassifier, \n",
    "                          GaussianNB,\n",
    "                          DecisionTreeClassifier, \n",
    "                          RandomForestClassifier,\n",
    "                          GradientBoostingClassifier,\n",
    "                          BaggingClassifier,\n",
    "                          AdaBoostClassifier,\n",
    "                          XGBClassifier,\n",
    "                           ))):\n",
    "        probs = model.predict_proba(X_test)[:,1]\n",
    "    else:\n",
    "        probs = \"Not Available\"\n",
    "    acc = round(model.score(X_test, y_test) * 100, 2) \n",
    "    # CV \n",
    "    train_pred = model_selection.cross_val_predict(algo, X_train,  y_train,  cv=cv, \n",
    "                                                  n_jobs = -1)\n",
    "    acc_cv = round(metrics.accuracy_score(y_train, train_pred) * 100, 2)\n",
    "    return train_pred, test_pred, acc, acc_cv, probs, fmeasure1"
   ]
  },
  {
   "cell_type": "markdown",
   "id": "9177a7b7",
   "metadata": {},
   "source": [
    "n_jobs is to make your algorithm make run in parallel. Here when dealing with tree based algorithms, the execution will take place in parallel. with n_jobs=1 it uses 100% of the cpu of one of the cores. Each process is run in a different core. n_jobs is an integer, specifying the maximum number of concurrently running workers. If 1 is given, no joblib parallelism is used at all, which is useful for debugging. If set to -1, all CPUs are used. For n_jobs below -1, (n_cpus + 1 + n_jobs) are used. For example with n_jobs=-2, all CPUs but one are used."
   ]
  },
  {
   "cell_type": "code",
   "execution_count": 597,
   "id": "256b68c7",
   "metadata": {},
   "outputs": [],
   "source": [
    "    # calculate the fpr and tpr for all thresholds of the classification\n",
    "    def plot_roc_curve(y_test, preds):\n",
    "        fpr, tpr, threshold = metrics.roc_curve(y_test, preds)\n",
    "        roc_auc = metrics.auc(fpr, tpr)\n",
    "        plt.title('Receiver Operating Characteristic')\n",
    "        plt.plot(fpr, tpr, 'b', label = 'AUC = %0.2f' % roc_auc)\n",
    "        plt.legend(loc = 'lower right')\n",
    "        plt.plot([0, 1], [0, 1],'r--')\n",
    "        plt.xlim([-0.01, 1.01])\n",
    "        plt.ylim([-0.01, 1.01])\n",
    "        plt.ylabel('True Positive Rate')\n",
    "        plt.xlabel('False Positive Rate')\n",
    "        plt.show()"
   ]
  },
  {
   "cell_type": "code",
   "execution_count": 598,
   "id": "130c9dad",
   "metadata": {},
   "outputs": [
    {
     "name": "stdout",
     "output_type": "stream",
     "text": [
      "RandomizedSearchCV took 12.13 seconds for 10 candidates parameter settings.\n",
      "Model with rank: 1\n",
      "Mean validation score: 0.900 (std: 0.002)\n",
      "Parameters: {'penalty': 'l2', 'intercept_scaling': 239573040010327.47, 'class_weight': None, 'C': 264753849.9850292}\n",
      "\n",
      "Model with rank: 2\n",
      "Mean validation score: 0.859 (std: 0.006)\n",
      "Parameters: {'penalty': 'l2', 'intercept_scaling': 5909859521164939.0, 'class_weight': None, 'C': 1.501127709636118e-16}\n",
      "\n",
      "Model with rank: 3\n",
      "Mean validation score: 0.819 (std: 0.008)\n",
      "Parameters: {'penalty': 'l2', 'intercept_scaling': 3.910742543527959e-18, 'class_weight': 'balanced', 'C': 7.55244913076048}\n",
      "\n",
      "Model with rank: 4\n",
      "Mean validation score: 0.674 (std: 0.008)\n",
      "Parameters: {'penalty': 'l2', 'intercept_scaling': 1.7948386065835105, 'class_weight': 'balanced', 'C': 3.258751958082722e-10}\n",
      "\n",
      "Model with rank: 5\n",
      "Mean validation score: nan (std: nan)\n",
      "Parameters: {'penalty': 'l1', 'intercept_scaling': 1.6350135347711982e-05, 'class_weight': None, 'C': 2.2554610081963117e-08}\n",
      "\n"
     ]
    }
   ],
   "source": [
    "# Logistic Regression - Random Search for Hyperparameters\n",
    "\n",
    "# Utility function to report best scores\n",
    "\n",
    "def report(results, n_top=5):\n",
    "    for i in range(1, n_top + 1):\n",
    "        candidates = np.flatnonzero(results['rank_test_score'] == i)\n",
    "        for candidate in candidates:\n",
    "            print(\"Model with rank: {0}\".format(i))\n",
    "            print(\"Mean validation score: {0:.3f} (std: {1:.3f})\".format(\n",
    "                  results['mean_test_score'][candidate],\n",
    "                  results['std_test_score'][candidate]))\n",
    "            print(\"Parameters: {0}\".format(results['params'][candidate]))\n",
    "            print(\"\")\n",
    "            \n",
    "# Specify parameters and distributions to sample from\n",
    "param_dist = {'penalty': ['l2', 'l1'], \n",
    "                         'class_weight': [None, 'balanced'],\n",
    "                         'C': np.logspace(-20, 20, 10000), \n",
    "                         'intercept_scaling': np.logspace(-20, 20, 10000)}\n",
    "\n",
    "# Run Randomized Search\n",
    "n_iter_search = 10\n",
    "lrc = LogisticRegression()\n",
    "random_search = RandomizedSearchCV(lrc, \n",
    "                                   n_jobs=-1, \n",
    "                                   param_distributions=param_dist, \n",
    "                                   n_iter=n_iter_search)\n",
    "\n",
    "start = time.time()\n",
    "random_search.fit(X_train, y_train)\n",
    "print(\"RandomizedSearchCV took %.2f seconds for %d candidates\"\n",
    "      \" parameter settings.\" % ((time.time() - start), n_iter_search))\n",
    "report(random_search.cv_results_)"
   ]
  },
  {
   "cell_type": "markdown",
   "id": "d9ccef34",
   "metadata": {},
   "source": [
    "### Logistic Regression"
   ]
  },
  {
   "cell_type": "code",
   "execution_count": 601,
   "id": "b1a407ab",
   "metadata": {},
   "outputs": [
    {
     "name": "stdout",
     "output_type": "stream",
     "text": [
      "Accuracy: 89.44\n",
      "Accuracy CV 10-Fold: 89.97\n",
      "Running Time: 0:00:02.207503\n",
      "Kappa Score is  0.28189201701484423\n"
     ]
    }
   ],
   "source": [
    "# Logistic Regression\n",
    "\n",
    "start_time = time.time()\n",
    "train_pred_log, test_pred_log, acc_log, acc_cv_log, probs_log, f1_log = algo(LogisticRegression(n_jobs = -1), \n",
    "                                                                 X_train, \n",
    "                                                                 y_train, \n",
    "                                                                 X_test, \n",
    "                                                                 10)\n",
    "log_time = (time.time() - start_time)\n",
    "print(\"Accuracy: %s\" % acc_log)\n",
    "print(\"Accuracy CV 10-Fold: %s\" % acc_cv_log)\n",
    "print(\"Running Time: %s\" % datetime.timedelta(seconds=log_time))\n",
    "print(\"Kappa Score is \",cohen_kappa_score(test_pred_log,y_test) )\n"
   ]
  },
  {
   "cell_type": "code",
   "execution_count": 602,
   "id": "8cce4101",
   "metadata": {},
   "outputs": [
    {
     "name": "stdout",
     "output_type": "stream",
     "text": [
      "              precision    recall  f1-score   support\n",
      "\n",
      "           0       0.91      0.98      0.95     24529\n",
      "           1       0.63      0.24      0.34      3066\n",
      "\n",
      "    accuracy                           0.90     27595\n",
      "   macro avg       0.77      0.61      0.64     27595\n",
      "weighted avg       0.88      0.90      0.88     27595\n",
      "\n"
     ]
    }
   ],
   "source": [
    "print (metrics.classification_report(y_train, train_pred_log))"
   ]
  },
  {
   "cell_type": "code",
   "execution_count": 603,
   "id": "36bfcb16",
   "metadata": {},
   "outputs": [
    {
     "name": "stdout",
     "output_type": "stream",
     "text": [
      "              precision    recall  f1-score   support\n",
      "\n",
      "           0       0.91      0.98      0.94     12019\n",
      "           1       0.62      0.22      0.33      1574\n",
      "\n",
      "    accuracy                           0.89     13593\n",
      "   macro avg       0.77      0.60      0.63     13593\n",
      "weighted avg       0.87      0.89      0.87     13593\n",
      "\n"
     ]
    }
   ],
   "source": [
    "print (metrics.classification_report(y_test, test_pred_log))"
   ]
  },
  {
   "cell_type": "code",
   "execution_count": 604,
   "id": "4cf68647",
   "metadata": {},
   "outputs": [
    {
     "data": {
      "image/png": "[encoded data removed]",
      "text/plain": [
       "<Figure size 432x288 with 1 Axes>"
      ]
     },
     "metadata": {
      "needs_background": "light"
     },
     "output_type": "display_data"
    }
   ],
   "source": [
    "plot_roc_curve(y_test, probs_log)"
   ]
  },
  {
   "cell_type": "code",
   "execution_count": null,
   "id": "821d5826",
   "metadata": {},
   "outputs": [],
   "source": []
  },
  {
   "cell_type": "markdown",
   "id": "413270ae",
   "metadata": {},
   "source": [
    "### Naive Bayes"
   ]
  },
  {
   "cell_type": "code",
   "execution_count": 605,
   "id": "dd04c3cb",
   "metadata": {},
   "outputs": [
    {
     "name": "stdout",
     "output_type": "stream",
     "text": [
      "Accuracy: 83.17\n",
      "Accuracy CV 10-Fold: 83.44\n",
      "Running Time: 0:00:00.459316\n",
      "Kappa Score is  0.2964779406605186\n"
     ]
    }
   ],
   "source": [
    "start_time = time.time()\n",
    "train_pred_gaussian, test_pred_gaussian, acc_gaussian, acc_cv_gaussian, probs_gaussian,f1_gaussian = algo(GaussianNB(), \n",
    "                                                                                     X_train, \n",
    "                                                                                     y_train, \n",
    "                                                                                     X_test, \n",
    "                                                                                     10)\n",
    "gaussian_time = (time.time() - start_time)\n",
    "print(\"Accuracy: %s\" % acc_gaussian)\n",
    "print(\"Accuracy CV 10-Fold: %s\" % acc_cv_gaussian)\n",
    "print(\"Running Time: %s\" % datetime.timedelta(seconds=gaussian_time))\n",
    "print(\"Kappa Score is \",cohen_kappa_score(test_pred_gaussian,y_test) )"
   ]
  },
  {
   "cell_type": "code",
   "execution_count": 606,
   "id": "295d82b2",
   "metadata": {},
   "outputs": [
    {
     "name": "stdout",
     "output_type": "stream",
     "text": [
      "              precision    recall  f1-score   support\n",
      "\n",
      "           0       0.93      0.88      0.90     24529\n",
      "           1       0.33      0.48      0.39      3066\n",
      "\n",
      "    accuracy                           0.83     27595\n",
      "   macro avg       0.63      0.68      0.65     27595\n",
      "weighted avg       0.86      0.83      0.85     27595\n",
      "\n"
     ]
    }
   ],
   "source": [
    "print (metrics.classification_report(y_train, train_pred_gaussian))"
   ]
  },
  {
   "cell_type": "code",
   "execution_count": 607,
   "id": "7bbc48b7",
   "metadata": {},
   "outputs": [
    {
     "name": "stdout",
     "output_type": "stream",
     "text": [
      "              precision    recall  f1-score   support\n",
      "\n",
      "           0       0.93      0.88      0.90     12019\n",
      "           1       0.34      0.47      0.39      1574\n",
      "\n",
      "    accuracy                           0.83     13593\n",
      "   macro avg       0.63      0.67      0.65     13593\n",
      "weighted avg       0.86      0.83      0.84     13593\n",
      "\n"
     ]
    }
   ],
   "source": [
    "print (metrics.classification_report(y_test, test_pred_gaussian))"
   ]
  },
  {
   "cell_type": "code",
   "execution_count": 608,
   "id": "31a6f170",
   "metadata": {},
   "outputs": [
    {
     "data": {
      "image/png": "[encoded data removed]",
      "text/plain": [
       "<Figure size 432x288 with 1 Axes>"
      ]
     },
     "metadata": {
      "needs_background": "light"
     },
     "output_type": "display_data"
    }
   ],
   "source": [
    "plot_roc_curve(y_test, probs_gaussian)"
   ]
  },
  {
   "cell_type": "markdown",
   "id": "4da6ff6c",
   "metadata": {},
   "source": [
    "### Decision Tree Classifier"
   ]
  },
  {
   "cell_type": "code",
   "execution_count": 609,
   "id": "0896a214",
   "metadata": {},
   "outputs": [
    {
     "name": "stdout",
     "output_type": "stream",
     "text": [
      "Accuracy: 84.8\n",
      "Accuracy CV 10-Fold: 85.12\n",
      "Running Time: 0:00:01.124078\n",
      "Kappa Score is  0.22480692865669583\n"
     ]
    }
   ],
   "source": [
    "start_time = time.time()\n",
    "train_pred_dt, test_pred_dt, acc_dt, acc_cv_dt, probs_dt,f1_dt = algo(DecisionTreeClassifier(), \n",
    "                                                             X_train, \n",
    "                                                             y_train, \n",
    "                                                             X_test, \n",
    "                                                             10)\n",
    "dt_time = (time.time() - start_time)\n",
    "print(\"Accuracy: %s\" % acc_dt)\n",
    "print(\"Accuracy CV 10-Fold: %s\" % acc_cv_dt)\n",
    "print(\"Running Time: %s\" % datetime.timedelta(seconds=dt_time))\n",
    "print(\"Kappa Score is \",cohen_kappa_score(test_pred_dt,y_test) )"
   ]
  },
  {
   "cell_type": "code",
   "execution_count": 610,
   "id": "46befc0b",
   "metadata": {},
   "outputs": [
    {
     "name": "stdout",
     "output_type": "stream",
     "text": [
      "              precision    recall  f1-score   support\n",
      "\n",
      "           0       0.91      0.92      0.92     24529\n",
      "           1       0.33      0.32      0.32      3066\n",
      "\n",
      "    accuracy                           0.85     27595\n",
      "   macro avg       0.62      0.62      0.62     27595\n",
      "weighted avg       0.85      0.85      0.85     27595\n",
      "\n"
     ]
    }
   ],
   "source": [
    "print (metrics.classification_report(y_train, train_pred_dt))"
   ]
  },
  {
   "cell_type": "code",
   "execution_count": 611,
   "id": "7312f9b9",
   "metadata": {},
   "outputs": [
    {
     "name": "stdout",
     "output_type": "stream",
     "text": [
      "              precision    recall  f1-score   support\n",
      "\n",
      "           0       0.91      0.92      0.91     12019\n",
      "           1       0.33      0.29      0.31      1574\n",
      "\n",
      "    accuracy                           0.85     13593\n",
      "   macro avg       0.62      0.61      0.61     13593\n",
      "weighted avg       0.84      0.85      0.84     13593\n",
      "\n"
     ]
    }
   ],
   "source": [
    "print (metrics.classification_report(y_test, test_pred_dt))"
   ]
  },
  {
   "cell_type": "markdown",
   "id": "ee4efb55",
   "metadata": {},
   "source": [
    "### Linear SVC"
   ]
  },
  {
   "cell_type": "code",
   "execution_count": 612,
   "id": "b5625b57",
   "metadata": {},
   "outputs": [
    {
     "name": "stdout",
     "output_type": "stream",
     "text": [
      "Accuracy: 89.46\n",
      "Accuracy CV 10-Fold: 90.04\n",
      "Running Time: 0:00:32.669258\n",
      "Kappa Score is  0.2650349562485165\n"
     ]
    }
   ],
   "source": [
    "\n",
    "start_time = time.time()\n",
    "train_pred_svc, test_pred_svc, acc_linear_svc, acc_cv_linear_svc, probs_linear_svc, f1_linear_svc = algo(LinearSVC(),\n",
    "                                                                                           X_train, \n",
    "                                                                                           y_train,\n",
    "                                                                                           X_test, \n",
    "                                                                                           10)\n",
    "linear_svc_time = (time.time() - start_time)\n",
    "print(\"Accuracy: %s\" % acc_linear_svc)\n",
    "print(\"Accuracy CV 10-Fold: %s\" % acc_cv_linear_svc)\n",
    "print(\"Running Time: %s\" % datetime.timedelta(seconds=linear_svc_time))\n",
    "print(\"Kappa Score is \",cohen_kappa_score(test_pred_svc,y_test) )"
   ]
  },
  {
   "cell_type": "code",
   "execution_count": 613,
   "id": "26ca0c68",
   "metadata": {},
   "outputs": [
    {
     "name": "stdout",
     "output_type": "stream",
     "text": [
      "              precision    recall  f1-score   support\n",
      "\n",
      "           0       0.91      0.99      0.95     24529\n",
      "           1       0.66      0.21      0.32      3066\n",
      "\n",
      "    accuracy                           0.90     27595\n",
      "   macro avg       0.79      0.60      0.63     27595\n",
      "weighted avg       0.88      0.90      0.88     27595\n",
      "\n"
     ]
    }
   ],
   "source": [
    "print (metrics.classification_report(y_train, train_pred_svc))"
   ]
  },
  {
   "cell_type": "code",
   "execution_count": 614,
   "id": "a0e32a94",
   "metadata": {},
   "outputs": [
    {
     "name": "stdout",
     "output_type": "stream",
     "text": [
      "              precision    recall  f1-score   support\n",
      "\n",
      "           0       0.90      0.99      0.94     12019\n",
      "           1       0.64      0.20      0.31      1574\n",
      "\n",
      "    accuracy                           0.89     13593\n",
      "   macro avg       0.77      0.59      0.62     13593\n",
      "weighted avg       0.87      0.89      0.87     13593\n",
      "\n"
     ]
    }
   ],
   "source": [
    "print (metrics.classification_report(y_test, test_pred_svc))"
   ]
  },
  {
   "cell_type": "code",
   "execution_count": null,
   "id": "7282c8ca",
   "metadata": {},
   "outputs": [],
   "source": []
  },
  {
   "cell_type": "markdown",
   "id": "ffc397ef",
   "metadata": {},
   "source": [
    "### Random Forest Classifier - Random Search for Hyperparameters"
   ]
  },
  {
   "cell_type": "code",
   "execution_count": 615,
   "id": "2946d955",
   "metadata": {},
   "outputs": [
    {
     "name": "stdout",
     "output_type": "stream",
     "text": [
      "RandomizedSearchCV took 3.95 seconds for 10 candidates parameter settings.\n",
      "Model with rank: 1\n",
      "Mean validation score: 0.902 (std: 0.002)\n",
      "Parameters: {'bootstrap': True, 'criterion': 'entropy', 'max_depth': 10, 'max_features': 10, 'min_samples_leaf': 11, 'min_samples_split': 8}\n",
      "\n",
      "Model with rank: 2\n",
      "Mean validation score: 0.902 (std: 0.002)\n",
      "Parameters: {'bootstrap': True, 'criterion': 'entropy', 'max_depth': 10, 'max_features': 8, 'min_samples_leaf': 19, 'min_samples_split': 3}\n",
      "\n",
      "Model with rank: 3\n",
      "Mean validation score: 0.901 (std: 0.002)\n",
      "Parameters: {'bootstrap': True, 'criterion': 'gini', 'max_depth': None, 'max_features': 4, 'min_samples_leaf': 12, 'min_samples_split': 22}\n",
      "\n",
      "Model with rank: 4\n",
      "Mean validation score: 0.901 (std: 0.003)\n",
      "Parameters: {'bootstrap': True, 'criterion': 'gini', 'max_depth': 10, 'max_features': 5, 'min_samples_leaf': 18, 'min_samples_split': 7}\n",
      "\n",
      "Model with rank: 5\n",
      "Mean validation score: 0.901 (std: 0.002)\n",
      "Parameters: {'bootstrap': True, 'criterion': 'gini', 'max_depth': None, 'max_features': 6, 'min_samples_leaf': 10, 'min_samples_split': 6}\n",
      "\n"
     ]
    }
   ],
   "source": [
    "\n",
    "\n",
    "# Utility function to report best scores\n",
    "\n",
    "def report(results, n_top=5):\n",
    "    for i in range(1, n_top + 1):\n",
    "        candidates = np.flatnonzero(results['rank_test_score'] == i)\n",
    "        for candidate in candidates:\n",
    "            print(\"Model with rank: {0}\".format(i))\n",
    "            print(\"Mean validation score: {0:.3f} (std: {1:.3f})\".format(\n",
    "                  results['mean_test_score'][candidate],\n",
    "                  results['std_test_score'][candidate]))\n",
    "            print(\"Parameters: {0}\".format(results['params'][candidate]))\n",
    "            print(\"\")\n",
    "            \n",
    "# Specify parameters and distributions to sample from\n",
    "param_dist = {\"max_depth\": [10, None],\n",
    "              \"max_features\": sp_randint(1, 11),\n",
    "              \"min_samples_split\": sp_randint(2, 30),\n",
    "              \"min_samples_leaf\": sp_randint(1, 20),\n",
    "              \"bootstrap\": [True, False],\n",
    "              \"criterion\": [\"gini\", \"entropy\"]}\n",
    "\n",
    "# Run Randomized Search\n",
    "n_iter_search = 10\n",
    "rfc = RandomForestClassifier(n_estimators=10)\n",
    "random_search = RandomizedSearchCV(rfc, \n",
    "                                   n_jobs = -1, \n",
    "                                   param_distributions=param_dist, \n",
    "                                   n_iter=n_iter_search)\n",
    "\n",
    "start = time.time()\n",
    "random_search.fit(X_train, y_train)\n",
    "print(\"RandomizedSearchCV took %.2f seconds for %d candidates\"\n",
    "      \" parameter settings.\" % ((time.time() - start), n_iter_search))\n",
    "report(random_search.cv_results_)"
   ]
  },
  {
   "cell_type": "code",
   "execution_count": 616,
   "id": "ab7e3469",
   "metadata": {},
   "outputs": [
    {
     "name": "stdout",
     "output_type": "stream",
     "text": [
      "Accuracy: 89.54\n",
      "Accuracy CV 10-Fold: 90.09\n",
      "Running Time: 0:00:01.284991\n",
      "Kappa Score is  0.2969972062823041\n"
     ]
    }
   ],
   "source": [
    "start_time = time.time()\n",
    "rfc = RandomForestClassifier(n_estimators=10, \n",
    "                             min_samples_leaf=15,\n",
    "                             min_samples_split=25, \n",
    "                             criterion='entropy', \n",
    "                             max_features=5)\n",
    "train_pred_rf, test_pred_rf, acc_rf, acc_cv_rf, probs_rf, f1_rf = algo(rfc, \n",
    "                                                             X_train, \n",
    "                                                             y_train, \n",
    "                                                             X_test, \n",
    "                                                             10)\n",
    "rf_time = (time.time() - start_time)\n",
    "print(\"Accuracy: %s\" % acc_rf)\n",
    "print(\"Accuracy CV 10-Fold: %s\" % acc_cv_rf)\n",
    "print(\"Running Time: %s\" % datetime.timedelta(seconds=rf_time))\n",
    "print(\"Kappa Score is \",cohen_kappa_score(test_pred_rf,y_test) )"
   ]
  },
  {
   "cell_type": "code",
   "execution_count": 617,
   "id": "f17725eb",
   "metadata": {},
   "outputs": [
    {
     "name": "stdout",
     "output_type": "stream",
     "text": [
      "              precision    recall  f1-score   support\n",
      "\n",
      "           0       0.91      0.98      0.95     24529\n",
      "           1       0.64      0.25      0.35      3066\n",
      "\n",
      "    accuracy                           0.90     27595\n",
      "   macro avg       0.78      0.61      0.65     27595\n",
      "weighted avg       0.88      0.90      0.88     27595\n",
      "\n"
     ]
    }
   ],
   "source": [
    "print (metrics.classification_report(y_train, train_pred_rf))"
   ]
  },
  {
   "cell_type": "code",
   "execution_count": 618,
   "id": "180189fa",
   "metadata": {},
   "outputs": [
    {
     "name": "stdout",
     "output_type": "stream",
     "text": [
      "              precision    recall  f1-score   support\n",
      "\n",
      "           0       0.91      0.98      0.94     12019\n",
      "           1       0.63      0.23      0.34      1574\n",
      "\n",
      "    accuracy                           0.90     13593\n",
      "   macro avg       0.77      0.61      0.64     13593\n",
      "weighted avg       0.88      0.90      0.87     13593\n",
      "\n"
     ]
    }
   ],
   "source": [
    "print (metrics.classification_report(y_test, test_pred_rf))"
   ]
  },
  {
   "cell_type": "code",
   "execution_count": 619,
   "id": "4402ba18",
   "metadata": {},
   "outputs": [
    {
     "data": {
      "image/png": "[encoded data removed]",
      "text/plain": [
       "<Figure size 432x288 with 1 Axes>"
      ]
     },
     "metadata": {
      "needs_background": "light"
     },
     "output_type": "display_data"
    }
   ],
   "source": [
    "plot_roc_curve(y_test, probs_rf)"
   ]
  },
  {
   "cell_type": "code",
   "execution_count": null,
   "id": "4d7f38da",
   "metadata": {},
   "outputs": [],
   "source": []
  },
  {
   "cell_type": "markdown",
   "id": "f867faf1",
   "metadata": {},
   "source": [
    "# Gradient Boosting Trees"
   ]
  },
  {
   "cell_type": "code",
   "execution_count": 620,
   "id": "ba9d513c",
   "metadata": {},
   "outputs": [
    {
     "name": "stdout",
     "output_type": "stream",
     "text": [
      "Accuracy: 89.65\n",
      "Accuracy CV 10-Fold: 90.38\n",
      "Running Time: 0:00:10.384100\n",
      "Kappa Score is  0.3041485049727637\n"
     ]
    }
   ],
   "source": [
    "\n",
    "start_time = time.time()\n",
    "train_pred_gbt, test_pred_gbt, acc_gbt, acc_cv_gbt, probs_gbt, f1_gbt = algo(GradientBoostingClassifier(), \n",
    "                                                                 X_train, \n",
    "                                                                 y_train, \n",
    "                                                                 X_test, \n",
    "                                                                 10)\n",
    "gbt_time = (time.time() - start_time)\n",
    "print(\"Accuracy: %s\" % acc_gbt)\n",
    "print(\"Accuracy CV 10-Fold: %s\" % acc_cv_gbt)\n",
    "print(\"Running Time: %s\" % datetime.timedelta(seconds=gbt_time))\n",
    "print(\"Kappa Score is \",cohen_kappa_score(test_pred_gbt,y_test) )"
   ]
  },
  {
   "cell_type": "code",
   "execution_count": 621,
   "id": "1aaa4f95",
   "metadata": {},
   "outputs": [
    {
     "name": "stdout",
     "output_type": "stream",
     "text": [
      "              precision    recall  f1-score   support\n",
      "\n",
      "           0       0.91      0.98      0.95     24529\n",
      "           1       0.67      0.26      0.38      3066\n",
      "\n",
      "    accuracy                           0.90     27595\n",
      "   macro avg       0.79      0.62      0.66     27595\n",
      "weighted avg       0.89      0.90      0.88     27595\n",
      "\n"
     ]
    }
   ],
   "source": [
    "print (metrics.classification_report(y_train, train_pred_gbt))"
   ]
  },
  {
   "cell_type": "code",
   "execution_count": 622,
   "id": "b000c4be",
   "metadata": {},
   "outputs": [
    {
     "name": "stdout",
     "output_type": "stream",
     "text": [
      "              precision    recall  f1-score   support\n",
      "\n",
      "           0       0.91      0.98      0.94     12019\n",
      "           1       0.64      0.24      0.35      1574\n",
      "\n",
      "    accuracy                           0.90     13593\n",
      "   macro avg       0.78      0.61      0.65     13593\n",
      "weighted avg       0.88      0.90      0.87     13593\n",
      "\n"
     ]
    }
   ],
   "source": [
    "print (metrics.classification_report(y_test, test_pred_gbt))"
   ]
  },
  {
   "cell_type": "code",
   "execution_count": 623,
   "id": "a1189f5d",
   "metadata": {},
   "outputs": [
    {
     "data": {
      "image/png": "[encoded data removed]",
      "text/plain": [
       "<Figure size 432x288 with 1 Axes>"
      ]
     },
     "metadata": {
      "needs_background": "light"
     },
     "output_type": "display_data"
    }
   ],
   "source": [
    "plot_roc_curve(y_test, probs_gbt)"
   ]
  },
  {
   "cell_type": "code",
   "execution_count": null,
   "id": "acffaeaa",
   "metadata": {},
   "outputs": [],
   "source": []
  },
  {
   "cell_type": "markdown",
   "id": "9ee29c5b",
   "metadata": {},
   "source": [
    "### AdaBoost "
   ]
  },
  {
   "cell_type": "code",
   "execution_count": 624,
   "id": "0c1cb4d9",
   "metadata": {},
   "outputs": [
    {
     "name": "stdout",
     "output_type": "stream",
     "text": [
      "Accuracy: 86.8\n",
      "Accuracy CV 10-Fold: 87.35\n",
      "Running Time: 0:00:15.811939\n",
      "Kappa Score is  0.2522733661640988\n"
     ]
    }
   ],
   "source": [
    "start_time = time.time()\n",
    "dt_model = DecisionTreeClassifier(criterion = 'entropy',random_state=100)\n",
    "train_pred_abcl, test_pred_abcl, acc_abcl, acc_cv_abcl, probs_abcl, f1_abcl = algo(AdaBoostClassifier(base_estimator=dt_model, n_estimators=100,random_state=100), \n",
    "                                                                 X_train, \n",
    "                                                                 y_train, \n",
    "                                                                 X_test, \n",
    "                                                                 10)\n",
    "abcl_time = (time.time() - start_time)\n",
    "print(\"Accuracy: %s\" % acc_abcl)\n",
    "print(\"Accuracy CV 10-Fold: %s\" % acc_cv_abcl)\n",
    "print(\"Running Time: %s\" % datetime.timedelta(seconds=abcl_time))\n",
    "print(\"Kappa Score is \",cohen_kappa_score(test_pred_abcl,y_test) )"
   ]
  },
  {
   "cell_type": "code",
   "execution_count": 625,
   "id": "df17b594",
   "metadata": {},
   "outputs": [
    {
     "name": "stdout",
     "output_type": "stream",
     "text": [
      "              precision    recall  f1-score   support\n",
      "\n",
      "           0       0.91      0.95      0.93     24529\n",
      "           1       0.40      0.29      0.34      3066\n",
      "\n",
      "    accuracy                           0.87     27595\n",
      "   macro avg       0.66      0.62      0.64     27595\n",
      "weighted avg       0.86      0.87      0.86     27595\n",
      "\n"
     ]
    }
   ],
   "source": [
    "print (metrics.classification_report(y_train, train_pred_abcl))"
   ]
  },
  {
   "cell_type": "code",
   "execution_count": 626,
   "id": "8f57fcdf",
   "metadata": {},
   "outputs": [
    {
     "name": "stdout",
     "output_type": "stream",
     "text": [
      "              precision    recall  f1-score   support\n",
      "\n",
      "           0       0.91      0.95      0.93     12019\n",
      "           1       0.40      0.27      0.32      1574\n",
      "\n",
      "    accuracy                           0.87     13593\n",
      "   macro avg       0.65      0.61      0.62     13593\n",
      "weighted avg       0.85      0.87      0.86     13593\n",
      "\n"
     ]
    }
   ],
   "source": [
    "print (metrics.classification_report(y_test, test_pred_abcl))"
   ]
  },
  {
   "cell_type": "code",
   "execution_count": 627,
   "id": "d33d3696",
   "metadata": {},
   "outputs": [
    {
     "data": {
      "image/png": "[encoded data removed]",
      "text/plain": [
       "<Figure size 432x288 with 1 Axes>"
      ]
     },
     "metadata": {
      "needs_background": "light"
     },
     "output_type": "display_data"
    }
   ],
   "source": [
    "plot_roc_curve(y_test, probs_abcl)"
   ]
  },
  {
   "cell_type": "code",
   "execution_count": null,
   "id": "9bd3cf88",
   "metadata": {},
   "outputs": [],
   "source": []
  },
  {
   "cell_type": "markdown",
   "id": "a8c7fa1b",
   "metadata": {},
   "source": [
    "### Multiple model Ensemble - VotingClassifier - GridSearch for Hyperparameters"
   ]
  },
  {
   "cell_type": "code",
   "execution_count": 628,
   "id": "90fe7a79",
   "metadata": {},
   "outputs": [
    {
     "name": "stdout",
     "output_type": "stream",
     "text": [
      "Accuracy: 67.54\n",
      "Accuracy CV 10-Fold: 88.85\n",
      "Running Time: 0:03:25.443823\n",
      "Kappa Score is  0.35240969443364056\n"
     ]
    }
   ],
   "source": [
    "\n",
    "\n",
    "start_time = time.time()\n",
    "clf1 = LogisticRegression(random_state=1)\n",
    "clf2 = RandomForestClassifier(random_state=1)\n",
    "clf3 = GaussianNB()\n",
    "eclf = VotingClassifier(\n",
    "    estimators=[('lr', clf1), ('rf', clf2), ('gnb', clf3)],\n",
    "    voting='soft')\n",
    "params = {'lr__C': [1.0, 100.0], 'rf__n_estimators': [20, 200]}\n",
    "\n",
    "\n",
    "train_pred_gs, test_pred_gs, acc_gs, acc_cv_gs, probs_gs,f1_gs = algo(GridSearchCV(scoring = f1,estimator=eclf, param_grid=params, cv=5,), \n",
    "                                                                 X_train, \n",
    "                                                                 y_train, \n",
    "                                                                 X_test, \n",
    "                                                                 10)\n",
    "gs_time = (time.time() - start_time)\n",
    "print(\"Accuracy: %s\" % acc_gs)\n",
    "print(\"Accuracy CV 10-Fold: %s\" % acc_cv_gs)\n",
    "print(\"Running Time: %s\" % datetime.timedelta(seconds=gs_time))\n",
    "print(\"Kappa Score is \",cohen_kappa_score(test_pred_gs,y_test) )"
   ]
  },
  {
   "cell_type": "code",
   "execution_count": 629,
   "id": "f9b241e2",
   "metadata": {},
   "outputs": [
    {
     "name": "stdout",
     "output_type": "stream",
     "text": [
      "              precision    recall  f1-score   support\n",
      "\n",
      "           0       0.93      0.95      0.94     24529\n",
      "           1       0.50      0.38      0.43      3066\n",
      "\n",
      "    accuracy                           0.89     27595\n",
      "   macro avg       0.71      0.67      0.69     27595\n",
      "weighted avg       0.88      0.89      0.88     27595\n",
      "\n"
     ]
    }
   ],
   "source": [
    "print (metrics.classification_report(y_train, train_pred_gs))"
   ]
  },
  {
   "cell_type": "code",
   "execution_count": 630,
   "id": "ef567eab",
   "metadata": {},
   "outputs": [
    {
     "name": "stdout",
     "output_type": "stream",
     "text": [
      "              precision    recall  f1-score   support\n",
      "\n",
      "           0       0.92      0.95      0.93     12019\n",
      "           1       0.49      0.36      0.42      1574\n",
      "\n",
      "    accuracy                           0.88     13593\n",
      "   macro avg       0.70      0.66      0.68     13593\n",
      "weighted avg       0.87      0.88      0.87     13593\n",
      "\n"
     ]
    }
   ],
   "source": [
    "print (metrics.classification_report(y_test, test_pred_gs))"
   ]
  },
  {
   "cell_type": "code",
   "execution_count": null,
   "id": "27624976",
   "metadata": {},
   "outputs": [],
   "source": []
  },
  {
   "cell_type": "markdown",
   "id": "99da76df",
   "metadata": {},
   "source": [
    "### XGBoost"
   ]
  },
  {
   "cell_type": "code",
   "execution_count": null,
   "id": "f1391e16",
   "metadata": {},
   "outputs": [],
   "source": []
  },
  {
   "cell_type": "code",
   "execution_count": 631,
   "id": "e9daeba9",
   "metadata": {},
   "outputs": [
    {
     "name": "stdout",
     "output_type": "stream",
     "text": [
      "[14:25:16] WARNING: C:/Users/administrator/workspace/xgboost-win64_release_1.6.0/src/learner.cc:627: \n",
      "Parameters: { \"class_weight\" } might not be used.\n",
      "\n",
      "  This could be a false alarm, with some parameters getting used by language bindings but\n",
      "  then being mistakenly passed down to XGBoost core, or some parameter actually being used\n",
      "  but getting flagged wrongly here. Please open an issue if you find any such cases.\n",
      "\n",
      "\n",
      "Accuracy: 89.41\n",
      "Accuracy CV 10-Fold: 89.91\n",
      "Running Time: 0:00:06.622858\n",
      "Kappa Score is  0.3176488371048839\n"
     ]
    }
   ],
   "source": [
    "start_time = time.time()\n",
    "\n",
    "train_pred_xgb1, test_pred_xgb1, acc_xgb1, acc_cv_xgb1, probs_xgb1, f1_xgb1 = algo(xgb.XGBClassifier(max_depth=5, n_estimators=100 ,class_weight='balanced', n_jobs=-1,), \n",
    "                                                                 X_train, \n",
    "                                                                 y_train, \n",
    "                                                                 X_test, \n",
    "                                                                 10)\n",
    "xgb_time1 = (time.time() - start_time)\n",
    "print(\"Accuracy: %s\" % acc_xgb1)\n",
    "print(\"Accuracy CV 10-Fold: %s\" % acc_cv_xgb1)\n",
    "print(\"Running Time: %s\" % datetime.timedelta(seconds=xgb_time1))\n",
    "print(\"Kappa Score is \",cohen_kappa_score(test_pred_xgb1,y_test) )"
   ]
  },
  {
   "cell_type": "code",
   "execution_count": 632,
   "id": "fd03d335",
   "metadata": {},
   "outputs": [
    {
     "name": "stdout",
     "output_type": "stream",
     "text": [
      "              precision    recall  f1-score   support\n",
      "\n",
      "           0       0.92      0.98      0.95     24529\n",
      "           1       0.60      0.28      0.38      3066\n",
      "\n",
      "    accuracy                           0.90     27595\n",
      "   macro avg       0.76      0.63      0.66     27595\n",
      "weighted avg       0.88      0.90      0.88     27595\n",
      "\n"
     ]
    }
   ],
   "source": [
    "print (metrics.classification_report(y_train, train_pred_xgb1))"
   ]
  },
  {
   "cell_type": "code",
   "execution_count": 633,
   "id": "24c6d67f",
   "metadata": {},
   "outputs": [
    {
     "name": "stdout",
     "output_type": "stream",
     "text": [
      "              precision    recall  f1-score   support\n",
      "\n",
      "           0       0.91      0.98      0.94     12019\n",
      "           1       0.60      0.26      0.37      1574\n",
      "\n",
      "    accuracy                           0.89     13593\n",
      "   macro avg       0.75      0.62      0.65     13593\n",
      "weighted avg       0.87      0.89      0.88     13593\n",
      "\n"
     ]
    }
   ],
   "source": [
    "print (metrics.classification_report(y_test, test_pred_xgb1))"
   ]
  },
  {
   "cell_type": "code",
   "execution_count": 634,
   "id": "a915b1c9",
   "metadata": {},
   "outputs": [
    {
     "data": {
      "image/png": "[encoded data removed]",
      "text/plain": [
       "<Figure size 432x288 with 1 Axes>"
      ]
     },
     "metadata": {
      "needs_background": "light"
     },
     "output_type": "display_data"
    }
   ],
   "source": [
    "plot_roc_curve(y_test, probs_xgb1)"
   ]
  },
  {
   "cell_type": "code",
   "execution_count": null,
   "id": "666e4096",
   "metadata": {},
   "outputs": [],
   "source": []
  },
  {
   "cell_type": "markdown",
   "id": "f56c5fe6",
   "metadata": {},
   "source": [
    "## We are getting the best results with Multiple model Ensemble - VotingClassifier.We can do SMOTE andcheck for perfromance boost"
   ]
  },
  {
   "cell_type": "code",
   "execution_count": null,
   "id": "fe3c1cc1",
   "metadata": {},
   "outputs": [],
   "source": []
  },
  {
   "cell_type": "markdown",
   "id": "d5a6d062",
   "metadata": {},
   "source": [
    "# SMOTE"
   ]
  },
  {
   "cell_type": "code",
   "execution_count": 635,
   "id": "38b266f9",
   "metadata": {},
   "outputs": [
    {
     "name": "stdout",
     "output_type": "stream",
     "text": [
      "X Train after SMOTE: (49058, 16)\n",
      "X Train before SMOTE: (27595, 16)\n",
      "Y Train after SMOTE: (49058,)\n",
      "Y Train before SMOTE: (27595,)\n"
     ]
    }
   ],
   "source": [
    "from numpy import ravel\n",
    "from imblearn.over_sampling import SMOTE\n",
    "from sklearn.model_selection import train_test_split\n",
    "sm = SMOTE(random_state=2)\n",
    "X_train_smote, y_train_smote = sm.fit_resample(X_train, y_train.values.ravel())\n",
    "\n",
    "print(\"X Train after SMOTE:\", X_train_smote.shape)\n",
    "print(\"X Train before SMOTE:\", X_train.shape)\n",
    "print(\"Y Train after SMOTE:\", y_train_smote.shape)\n",
    "print(\"Y Train before SMOTE:\", y_train.shape)"
   ]
  },
  {
   "cell_type": "markdown",
   "id": "4e3e2b34",
   "metadata": {},
   "source": [
    "## Voting Classifier after SMOTE"
   ]
  },
  {
   "cell_type": "code",
   "execution_count": 636,
   "id": "95fa7b42",
   "metadata": {},
   "outputs": [
    {
     "name": "stdout",
     "output_type": "stream",
     "text": [
      "Accuracy: 67.54\n",
      "Accuracy CV 10-Fold: 88.85\n",
      "Running Time: 0:07:19.521811\n",
      "Kappa Score is  0.37570448491548314\n"
     ]
    }
   ],
   "source": [
    "start_time = time.time()\n",
    "clf1 = LogisticRegression(random_state=1)\n",
    "clf2 = RandomForestClassifier(random_state=1)\n",
    "clf3 = GaussianNB()\n",
    "eclf = VotingClassifier(\n",
    "    estimators=[('lr', clf1), ('rf', clf2), ('gnb', clf3)],\n",
    "    voting='soft')\n",
    "params = {'lr__C': [1.0, 100.0], 'rf__n_estimators': [20, 200]}\n",
    "\n",
    "\n",
    "train_pred_gs_smote, test_pred_gs_smote, acc_gs_smote, acc_cv_gs_smote, probs_gs_smote,f1_gs_smote = algo(GridSearchCV(estimator=eclf, param_grid=params, cv=5), \n",
    "                                                                 X_train_smote, \n",
    "                                                                 y_train_smote, \n",
    "                                                                 X_test, \n",
    "                                                                 10)\n",
    "gs_time = (time.time() - start_time)\n",
    "print(\"Accuracy: %s\" % acc_gs)\n",
    "print(\"Accuracy CV 10-Fold: %s\" % acc_cv_gs)\n",
    "print(\"Running Time: %s\" % datetime.timedelta(seconds=gs_time))\n",
    "print(\"Kappa Score is \",cohen_kappa_score(test_pred_gs_smote,y_test) )"
   ]
  },
  {
   "cell_type": "code",
   "execution_count": 637,
   "id": "00a184b5",
   "metadata": {},
   "outputs": [
    {
     "name": "stdout",
     "output_type": "stream",
     "text": [
      "              precision    recall  f1-score   support\n",
      "\n",
      "           0       0.75      0.88      0.81     24529\n",
      "           1       0.86      0.71      0.78     24529\n",
      "\n",
      "    accuracy                           0.80     49058\n",
      "   macro avg       0.81      0.80      0.80     49058\n",
      "weighted avg       0.81      0.80      0.80     49058\n",
      "\n"
     ]
    }
   ],
   "source": [
    "print (metrics.classification_report(y_train_smote, train_pred_gs_smote))"
   ]
  },
  {
   "cell_type": "code",
   "execution_count": 638,
   "id": "0c5608a5",
   "metadata": {},
   "outputs": [
    {
     "name": "stdout",
     "output_type": "stream",
     "text": [
      "              precision    recall  f1-score   support\n",
      "\n",
      "           0       0.94      0.89      0.91     12019\n",
      "           1       0.39      0.56      0.46      1574\n",
      "\n",
      "    accuracy                           0.85     13593\n",
      "   macro avg       0.67      0.72      0.69     13593\n",
      "weighted avg       0.88      0.85      0.86     13593\n",
      "\n"
     ]
    }
   ],
   "source": [
    "print (metrics.classification_report(y_test, test_pred_gs_smote))"
   ]
  },
  {
   "cell_type": "code",
   "execution_count": null,
   "id": "7d96e9f9",
   "metadata": {},
   "outputs": [],
   "source": []
  },
  {
   "cell_type": "code",
   "execution_count": null,
   "id": "e8d2f130",
   "metadata": {},
   "outputs": [],
   "source": []
  },
  {
   "cell_type": "markdown",
   "id": "c8c5e482",
   "metadata": {},
   "source": [
    "# Downsampling the Train "
   ]
  },
  {
   "cell_type": "code",
   "execution_count": 639,
   "id": "4b1cd888",
   "metadata": {},
   "outputs": [],
   "source": [
    "X_d = pd.concat([X_train,y_train],axis=1)"
   ]
  },
  {
   "cell_type": "code",
   "execution_count": 640,
   "id": "324831b0",
   "metadata": {},
   "outputs": [],
   "source": [
    "major_class = X_d[X_d[\"y\"]==0].index\n",
    "minor_class = X_d[X_d[\"y\"]==1].index"
   ]
  },
  {
   "cell_type": "code",
   "execution_count": 641,
   "id": "a0bc0ea1",
   "metadata": {},
   "outputs": [
    {
     "name": "stdout",
     "output_type": "stream",
     "text": [
      "24529\n",
      "3066\n"
     ]
    }
   ],
   "source": [
    "print(len(major_class))\n",
    "print(len(minor_class))"
   ]
  },
  {
   "cell_type": "code",
   "execution_count": 642,
   "id": "c7b4e02f",
   "metadata": {},
   "outputs": [],
   "source": [
    "delete = np.random.choice(major_class, size=15000, replace=False)\n"
   ]
  },
  {
   "cell_type": "code",
   "execution_count": 643,
   "id": "9a00eb0b",
   "metadata": {},
   "outputs": [],
   "source": [
    "# splitting again\n",
    "X_train_d = X_d.drop(\"y\",axis=1)\n",
    "y_train_d = X_d[\"y\"]"
   ]
  },
  {
   "cell_type": "code",
   "execution_count": 644,
   "id": "2b2621ec",
   "metadata": {},
   "outputs": [],
   "source": [
    "X_train_d = X_train.drop(labels = delete,axis=0)\n",
    "y_train_d = y_train.drop(labels = delete,axis=0)"
   ]
  },
  {
   "cell_type": "markdown",
   "id": "1295f608",
   "metadata": {},
   "source": [
    "## Algorithms"
   ]
  },
  {
   "cell_type": "markdown",
   "id": "6d9e5355",
   "metadata": {},
   "source": [
    "### Logistic- Downsampled"
   ]
  },
  {
   "cell_type": "code",
   "execution_count": 645,
   "id": "2ec8111e",
   "metadata": {},
   "outputs": [
    {
     "name": "stdout",
     "output_type": "stream",
     "text": [
      "Accuracy: 88.27\n",
      "Accuracy CV 10-Fold: 82.03\n",
      "Running Time: 0:00:01.057568\n",
      "Kappa Score is  0.36354825443832406\n"
     ]
    }
   ],
   "source": [
    "start_time = time.time()\n",
    "train_pred_log_d, test_pred_log_d, acc_log_d, acc_cv_log_d, probs_log_d,f1_log_d = algo(LogisticRegression(n_jobs = -1), \n",
    "                                                                 X_train_d, \n",
    "                                                                 y_train_d, \n",
    "                                                                 X_test, \n",
    "                                                                 10)\n",
    "log_time = (time.time() - start_time)\n",
    "print(\"Accuracy: %s\" % acc_log_d)\n",
    "print(\"Accuracy CV 10-Fold: %s\" % acc_cv_log_d)\n",
    "print(\"Running Time: %s\" % datetime.timedelta(seconds=log_time))\n",
    "print(\"Kappa Score is \",cohen_kappa_score(test_pred_log_d,y_test) )"
   ]
  },
  {
   "cell_type": "code",
   "execution_count": 646,
   "id": "2a86b8f4",
   "metadata": {},
   "outputs": [
    {
     "name": "stdout",
     "output_type": "stream",
     "text": [
      "              precision    recall  f1-score   support\n",
      "\n",
      "           0       0.83      0.95      0.89      9529\n",
      "           1       0.74      0.41      0.52      3066\n",
      "\n",
      "    accuracy                           0.82     12595\n",
      "   macro avg       0.79      0.68      0.71     12595\n",
      "weighted avg       0.81      0.82      0.80     12595\n",
      "\n"
     ]
    }
   ],
   "source": [
    "print (metrics.classification_report(y_train_d, train_pred_log_d))"
   ]
  },
  {
   "cell_type": "code",
   "execution_count": 647,
   "id": "0115eb48",
   "metadata": {},
   "outputs": [
    {
     "name": "stdout",
     "output_type": "stream",
     "text": [
      "              precision    recall  f1-score   support\n",
      "\n",
      "           0       0.92      0.95      0.93     12019\n",
      "           1       0.49      0.38      0.43      1574\n",
      "\n",
      "    accuracy                           0.88     13593\n",
      "   macro avg       0.71      0.66      0.68     13593\n",
      "weighted avg       0.87      0.88      0.88     13593\n",
      "\n"
     ]
    }
   ],
   "source": [
    "print (metrics.classification_report(y_test, test_pred_log_d))"
   ]
  },
  {
   "cell_type": "markdown",
   "id": "750adf05",
   "metadata": {},
   "source": [
    "### XGB- Downsampled"
   ]
  },
  {
   "cell_type": "code",
   "execution_count": 648,
   "id": "05593bd0",
   "metadata": {},
   "outputs": [
    {
     "name": "stdout",
     "output_type": "stream",
     "text": [
      "Accuracy: 87.77\n",
      "Accuracy CV 10-Fold: 82.79\n",
      "Running Time: 0:00:02.967355\n",
      "Kappa Score is  0.399062144778243\n"
     ]
    }
   ],
   "source": [
    "start_time = time.time()\n",
    "\n",
    "train_pred_xgb1_d, test_pred_xgb1_d, acc_xgb1_d, acc_cv_xgb1_d, probs_xgb1_d,f1_xgb1_d = algo(xgb.XGBClassifier(max_depth=5, n_estimators=100 , n_jobs=-1), \n",
    "                                                                 X_train_d, \n",
    "                                                                 y_train_d, \n",
    "                                                                 X_test, \n",
    "                                                                 10)\n",
    "xgb_time1 = (time.time() - start_time)\n",
    "print(\"Accuracy: %s\" % acc_xgb1_d)\n",
    "print(\"Accuracy CV 10-Fold: %s\" % acc_cv_xgb1_d)\n",
    "print(\"Running Time: %s\" % datetime.timedelta(seconds=xgb_time1))\n",
    "print(\"Kappa Score is \",cohen_kappa_score(test_pred_xgb1_d,y_test) )"
   ]
  },
  {
   "cell_type": "code",
   "execution_count": 649,
   "id": "b5be1031",
   "metadata": {},
   "outputs": [
    {
     "name": "stdout",
     "output_type": "stream",
     "text": [
      "              precision    recall  f1-score   support\n",
      "\n",
      "           0       0.85      0.94      0.89      9529\n",
      "           1       0.71      0.49      0.58      3066\n",
      "\n",
      "    accuracy                           0.83     12595\n",
      "   macro avg       0.78      0.71      0.74     12595\n",
      "weighted avg       0.82      0.83      0.82     12595\n",
      "\n"
     ]
    }
   ],
   "source": [
    "print (metrics.classification_report(y_train_d, train_pred_xgb1_d))"
   ]
  },
  {
   "cell_type": "code",
   "execution_count": 650,
   "id": "82d0668c",
   "metadata": {},
   "outputs": [
    {
     "name": "stdout",
     "output_type": "stream",
     "text": [
      "              precision    recall  f1-score   support\n",
      "\n",
      "           0       0.93      0.93      0.93     12019\n",
      "           1       0.47      0.47      0.47      1574\n",
      "\n",
      "    accuracy                           0.88     13593\n",
      "   macro avg       0.70      0.70      0.70     13593\n",
      "weighted avg       0.88      0.88      0.88     13593\n",
      "\n"
     ]
    }
   ],
   "source": [
    "print (metrics.classification_report(y_test, test_pred_xgb1_d))"
   ]
  },
  {
   "cell_type": "markdown",
   "id": "ab0a825c",
   "metadata": {},
   "source": [
    "### Naive Bayes- Downsampled"
   ]
  },
  {
   "cell_type": "code",
   "execution_count": 651,
   "id": "9d17c585",
   "metadata": {},
   "outputs": [
    {
     "name": "stdout",
     "output_type": "stream",
     "text": [
      "Accuracy: 82.39\n",
      "Accuracy CV 10-Fold: 77.86\n",
      "Running Time: 0:00:00.200499\n",
      "Kappa Score is  0.3036979689205629\n"
     ]
    }
   ],
   "source": [
    "start_time = time.time()\n",
    "train_pred_gaussian_d, test_pred_gaussian_d, acc_gaussian_d, acc_cv_gaussian_d, probs_gaussian_d,f1_gaussian_d = algo(GaussianNB(), \n",
    "                                                                                     X_train_d, \n",
    "                                                                                     y_train_d, \n",
    "                                                                                     X_test, \n",
    "                                                                                     10)\n",
    "gaussian_time = (time.time() - start_time)\n",
    "print(\"Accuracy: %s\" % acc_gaussian_d)\n",
    "print(\"Accuracy CV 10-Fold: %s\" % acc_cv_gaussian_d)\n",
    "print(\"Running Time: %s\" % datetime.timedelta(seconds=gaussian_time))\n",
    "print(\"Kappa Score is \",cohen_kappa_score(test_pred_gaussian_d,y_test) )"
   ]
  },
  {
   "cell_type": "code",
   "execution_count": 652,
   "id": "f0a7cbb6",
   "metadata": {},
   "outputs": [
    {
     "name": "stdout",
     "output_type": "stream",
     "text": [
      "              precision    recall  f1-score   support\n",
      "\n",
      "           0       0.85      0.86      0.85      9529\n",
      "           1       0.55      0.52      0.53      3066\n",
      "\n",
      "    accuracy                           0.78     12595\n",
      "   macro avg       0.70      0.69      0.69     12595\n",
      "weighted avg       0.77      0.78      0.78     12595\n",
      "\n"
     ]
    }
   ],
   "source": [
    "print (metrics.classification_report(y_train_d, train_pred_gaussian_d))"
   ]
  },
  {
   "cell_type": "code",
   "execution_count": 653,
   "id": "f6071a44",
   "metadata": {},
   "outputs": [
    {
     "name": "stdout",
     "output_type": "stream",
     "text": [
      "              precision    recall  f1-score   support\n",
      "\n",
      "           0       0.93      0.86      0.90     12019\n",
      "           1       0.33      0.51      0.40      1574\n",
      "\n",
      "    accuracy                           0.82     13593\n",
      "   macro avg       0.63      0.69      0.65     13593\n",
      "weighted avg       0.86      0.82      0.84     13593\n",
      "\n"
     ]
    }
   ],
   "source": [
    "print (metrics.classification_report(y_test, test_pred_gaussian_d))"
   ]
  },
  {
   "cell_type": "markdown",
   "id": "16e5a1fb",
   "metadata": {},
   "source": [
    "### Multiple ensemble -Voting- Downsampled"
   ]
  },
  {
   "cell_type": "code",
   "execution_count": 654,
   "id": "11740e0a",
   "metadata": {},
   "outputs": [
    {
     "name": "stdout",
     "output_type": "stream",
     "text": [
      "Accuracy: 86.79\n",
      "Accuracy CV 10-Fold: 82.11\n",
      "Running Time: 0:01:41.760151\n",
      "Kappa Score is  0.3833625844051963\n"
     ]
    }
   ],
   "source": [
    "start_time = time.time()\n",
    "clf1 = LogisticRegression(random_state=1)\n",
    "clf2 = RandomForestClassifier(random_state=1)\n",
    "clf3 = GaussianNB()\n",
    "eclf = VotingClassifier(\n",
    "    estimators=[('lr', clf1), ('rf', clf2), ('gnb', clf3)],\n",
    "    voting='soft')\n",
    "params = {'lr__C': [1.0, 100.0], 'rf__n_estimators': [20, 200]}\n",
    "\n",
    "\n",
    "train_pred_gs_d, test_pred_gs_d, acc_gs_d, acc_cv_gs_d, probs_gs_d,f1_gs_d = algo(GridSearchCV(estimator=eclf, param_grid=params, cv=5), \n",
    "                                                                 X_train_d, \n",
    "                                                                 y_train_d, \n",
    "                                                                 X_test, \n",
    "                                                                 10)\n",
    "gs_time = (time.time() - start_time)\n",
    "print(\"Accuracy: %s\" % acc_gs_d)\n",
    "print(\"Accuracy CV 10-Fold: %s\" % acc_cv_gs_d)\n",
    "print(\"Running Time: %s\" % datetime.timedelta(seconds=gs_time))\n",
    "print(\"Kappa Score is \",cohen_kappa_score(test_pred_gs_d,y_test) )"
   ]
  },
  {
   "cell_type": "code",
   "execution_count": 655,
   "id": "d877af17",
   "metadata": {},
   "outputs": [
    {
     "name": "stdout",
     "output_type": "stream",
     "text": [
      "              precision    recall  f1-score   support\n",
      "\n",
      "           0       0.86      0.92      0.89      9529\n",
      "           1       0.67      0.52      0.58      3066\n",
      "\n",
      "    accuracy                           0.82     12595\n",
      "   macro avg       0.76      0.72      0.74     12595\n",
      "weighted avg       0.81      0.82      0.81     12595\n",
      "\n"
     ]
    }
   ],
   "source": [
    "print (metrics.classification_report(y_train_d, train_pred_gs_d))"
   ]
  },
  {
   "cell_type": "code",
   "execution_count": 656,
   "id": "fd5547fd",
   "metadata": {},
   "outputs": [
    {
     "name": "stdout",
     "output_type": "stream",
     "text": [
      "              precision    recall  f1-score   support\n",
      "\n",
      "           0       0.93      0.92      0.92     12019\n",
      "           1       0.44      0.48      0.46      1574\n",
      "\n",
      "    accuracy                           0.87     13593\n",
      "   macro avg       0.68      0.70      0.69     13593\n",
      "weighted avg       0.87      0.87      0.87     13593\n",
      "\n"
     ]
    }
   ],
   "source": [
    "print (metrics.classification_report(y_test, test_pred_gs_d))"
   ]
  },
  {
   "cell_type": "code",
   "execution_count": null,
   "id": "b6f1dc2b",
   "metadata": {},
   "outputs": [],
   "source": []
  },
  {
   "cell_type": "markdown",
   "id": "48f6036c",
   "metadata": {},
   "source": [
    "# Score Card of Accuracy"
   ]
  },
  {
   "cell_type": "code",
   "execution_count": 657,
   "id": "1daf6ee2",
   "metadata": {},
   "outputs": [
    {
     "data": {
      "text/html": [
       "<div>\n",
       "<style scoped>\n",
       "    .dataframe tbody tr th:only-of-type {\n",
       "        vertical-align: middle;\n",
       "    }\n",
       "\n",
       "    .dataframe tbody tr th {\n",
       "        vertical-align: top;\n",
       "    }\n",
       "\n",
       "    .dataframe thead th {\n",
       "        text-align: right;\n",
       "    }\n",
       "</style>\n",
       "<table border=\"1\" class=\"dataframe\">\n",
       "  <thead>\n",
       "    <tr style=\"text-align: right;\">\n",
       "      <th></th>\n",
       "      <th>Model</th>\n",
       "      <th>Score</th>\n",
       "    </tr>\n",
       "  </thead>\n",
       "  <tbody>\n",
       "    <tr>\n",
       "      <th>5</th>\n",
       "      <td>Gradient Boosting Trees</td>\n",
       "      <td>90.38</td>\n",
       "    </tr>\n",
       "    <tr>\n",
       "      <th>1</th>\n",
       "      <td>Random Forest</td>\n",
       "      <td>90.09</td>\n",
       "    </tr>\n",
       "    <tr>\n",
       "      <th>3</th>\n",
       "      <td>Linear SVC</td>\n",
       "      <td>90.04</td>\n",
       "    </tr>\n",
       "    <tr>\n",
       "      <th>0</th>\n",
       "      <td>Logistic Regression</td>\n",
       "      <td>89.97</td>\n",
       "    </tr>\n",
       "    <tr>\n",
       "      <th>8</th>\n",
       "      <td>XGBoost</td>\n",
       "      <td>89.91</td>\n",
       "    </tr>\n",
       "    <tr>\n",
       "      <th>7</th>\n",
       "      <td>Multiple model Ensemble</td>\n",
       "      <td>88.85</td>\n",
       "    </tr>\n",
       "    <tr>\n",
       "      <th>6</th>\n",
       "      <td>AdaBoostClassifier</td>\n",
       "      <td>87.35</td>\n",
       "    </tr>\n",
       "    <tr>\n",
       "      <th>4</th>\n",
       "      <td>Decision Tree</td>\n",
       "      <td>85.12</td>\n",
       "    </tr>\n",
       "    <tr>\n",
       "      <th>2</th>\n",
       "      <td>Naive Bayes</td>\n",
       "      <td>83.44</td>\n",
       "    </tr>\n",
       "    <tr>\n",
       "      <th>12</th>\n",
       "      <td>XGBoost-Downsampled</td>\n",
       "      <td>82.79</td>\n",
       "    </tr>\n",
       "    <tr>\n",
       "      <th>13</th>\n",
       "      <td>Multiple model Ensemble Downsampled</td>\n",
       "      <td>82.11</td>\n",
       "    </tr>\n",
       "    <tr>\n",
       "      <th>10</th>\n",
       "      <td>Logistic Regression-Downsampled</td>\n",
       "      <td>82.03</td>\n",
       "    </tr>\n",
       "    <tr>\n",
       "      <th>9</th>\n",
       "      <td>Multiple model Ensemble After SMOTE</td>\n",
       "      <td>79.85</td>\n",
       "    </tr>\n",
       "    <tr>\n",
       "      <th>11</th>\n",
       "      <td>Naive Bayes-Downsampled</td>\n",
       "      <td>77.86</td>\n",
       "    </tr>\n",
       "  </tbody>\n",
       "</table>\n",
       "</div>"
      ],
      "text/plain": [
       "                                  Model  Score\n",
       "5               Gradient Boosting Trees  90.38\n",
       "1                         Random Forest  90.09\n",
       "3                            Linear SVC  90.04\n",
       "0                   Logistic Regression  89.97\n",
       "8                               XGBoost  89.91\n",
       "7               Multiple model Ensemble  88.85\n",
       "6                    AdaBoostClassifier  87.35\n",
       "4                         Decision Tree  85.12\n",
       "2                           Naive Bayes  83.44\n",
       "12                  XGBoost-Downsampled  82.79\n",
       "13  Multiple model Ensemble Downsampled  82.11\n",
       "10      Logistic Regression-Downsampled  82.03\n",
       "9   Multiple model Ensemble After SMOTE  79.85\n",
       "11              Naive Bayes-Downsampled  77.86"
      ]
     },
     "execution_count": 657,
     "metadata": {},
     "output_type": "execute_result"
    }
   ],
   "source": [
    "models_accuracy = pd.DataFrame({\n",
    "    'Model': ['Logistic Regression', \n",
    "              'Random Forest', 'Naive Bayes', \n",
    "              'Linear SVC', \n",
    "              'Decision Tree', 'Gradient Boosting Trees',\n",
    "              'AdaBoostClassifier',             \n",
    "              'Multiple model Ensemble',\n",
    "              'XGBoost',\n",
    "              'Multiple model Ensemble After SMOTE',\n",
    "             'Logistic Regression-Downsampled',              \n",
    "              'Naive Bayes-Downsampled',\n",
    "              'XGBoost-Downsampled',\n",
    "             'Multiple model Ensemble Downsampled'],\n",
    "    'Score': [\n",
    "         \n",
    "        acc_cv_log,     \n",
    "        acc_cv_rf, \n",
    "        acc_cv_gaussian,          \n",
    "        acc_cv_linear_svc, \n",
    "        acc_cv_dt,\n",
    "        acc_cv_gbt,        \n",
    "        acc_cv_abcl,        \n",
    "        acc_cv_gs,\n",
    "        acc_cv_xgb1,\n",
    "        acc_cv_gs_smote,\n",
    "        acc_cv_log_d,\n",
    "        acc_cv_gaussian_d,\n",
    "        acc_cv_xgb1_d,\n",
    "        acc_cv_gs_d\n",
    "    ]})\n",
    "models_accuracy.sort_values(by='Score', ascending=False)"
   ]
  },
  {
   "cell_type": "markdown",
   "id": "48664263",
   "metadata": {},
   "source": [
    "# Score Card of F1 Score"
   ]
  },
  {
   "cell_type": "code",
   "execution_count": 658,
   "id": "3316d7e5",
   "metadata": {},
   "outputs": [
    {
     "data": {
      "text/html": [
       "<div>\n",
       "<style scoped>\n",
       "    .dataframe tbody tr th:only-of-type {\n",
       "        vertical-align: middle;\n",
       "    }\n",
       "\n",
       "    .dataframe tbody tr th {\n",
       "        vertical-align: top;\n",
       "    }\n",
       "\n",
       "    .dataframe thead th {\n",
       "        text-align: right;\n",
       "    }\n",
       "</style>\n",
       "<table border=\"1\" class=\"dataframe\">\n",
       "  <thead>\n",
       "    <tr style=\"text-align: right;\">\n",
       "      <th></th>\n",
       "      <th>Model</th>\n",
       "      <th>F1_Score</th>\n",
       "    </tr>\n",
       "  </thead>\n",
       "  <tbody>\n",
       "    <tr>\n",
       "      <th>12</th>\n",
       "      <td>XGBoost-Downsampled</td>\n",
       "      <td>69.95</td>\n",
       "    </tr>\n",
       "    <tr>\n",
       "      <th>13</th>\n",
       "      <td>Multiple model Ensemble Downsampled</td>\n",
       "      <td>69.16</td>\n",
       "    </tr>\n",
       "    <tr>\n",
       "      <th>9</th>\n",
       "      <td>Multiple model Ensemble After SMOTE</td>\n",
       "      <td>68.63</td>\n",
       "    </tr>\n",
       "    <tr>\n",
       "      <th>10</th>\n",
       "      <td>Logistic Regression-Downsampled</td>\n",
       "      <td>68.12</td>\n",
       "    </tr>\n",
       "    <tr>\n",
       "      <th>7</th>\n",
       "      <td>Multiple model Ensemble</td>\n",
       "      <td>67.54</td>\n",
       "    </tr>\n",
       "    <tr>\n",
       "      <th>8</th>\n",
       "      <td>XGBoost</td>\n",
       "      <td>65.42</td>\n",
       "    </tr>\n",
       "    <tr>\n",
       "      <th>11</th>\n",
       "      <td>Naive Bayes-Downsampled</td>\n",
       "      <td>64.91</td>\n",
       "    </tr>\n",
       "    <tr>\n",
       "      <th>2</th>\n",
       "      <td>Naive Bayes</td>\n",
       "      <td>64.68</td>\n",
       "    </tr>\n",
       "    <tr>\n",
       "      <th>5</th>\n",
       "      <td>Gradient Boosting Trees</td>\n",
       "      <td>64.57</td>\n",
       "    </tr>\n",
       "    <tr>\n",
       "      <th>1</th>\n",
       "      <td>Random Forest</td>\n",
       "      <td>64.21</td>\n",
       "    </tr>\n",
       "    <tr>\n",
       "      <th>0</th>\n",
       "      <td>Logistic Regression</td>\n",
       "      <td>63.39</td>\n",
       "    </tr>\n",
       "    <tr>\n",
       "      <th>6</th>\n",
       "      <td>AdaBoostClassifier</td>\n",
       "      <td>62.47</td>\n",
       "    </tr>\n",
       "    <tr>\n",
       "      <th>3</th>\n",
       "      <td>Linear SVC</td>\n",
       "      <td>62.42</td>\n",
       "    </tr>\n",
       "    <tr>\n",
       "      <th>4</th>\n",
       "      <td>Decision Tree</td>\n",
       "      <td>61.23</td>\n",
       "    </tr>\n",
       "  </tbody>\n",
       "</table>\n",
       "</div>"
      ],
      "text/plain": [
       "                                  Model  F1_Score\n",
       "12                  XGBoost-Downsampled     69.95\n",
       "13  Multiple model Ensemble Downsampled     69.16\n",
       "9   Multiple model Ensemble After SMOTE     68.63\n",
       "10      Logistic Regression-Downsampled     68.12\n",
       "7              Multiple model Ensemble      67.54\n",
       "8                               XGBoost     65.42\n",
       "11              Naive Bayes-Downsampled     64.91\n",
       "2                           Naive Bayes     64.68\n",
       "5               Gradient Boosting Trees     64.57\n",
       "1                         Random Forest     64.21\n",
       "0                   Logistic Regression     63.39\n",
       "6                    AdaBoostClassifier     62.47\n",
       "3                            Linear SVC     62.42\n",
       "4                         Decision Tree     61.23"
      ]
     },
     "execution_count": 658,
     "metadata": {},
     "output_type": "execute_result"
    }
   ],
   "source": [
    "models_F1 = pd.DataFrame({\n",
    "    'Model': ['Logistic Regression', \n",
    "              'Random Forest', 'Naive Bayes', \n",
    "              'Linear SVC', \n",
    "              'Decision Tree', 'Gradient Boosting Trees',\n",
    "              'AdaBoostClassifier',              \n",
    "              'Multiple model Ensemble ',\n",
    "              'XGBoost',\n",
    "             'Multiple model Ensemble After SMOTE',\n",
    "            'Logistic Regression-Downsampled',              \n",
    "              'Naive Bayes-Downsampled',\n",
    "              'XGBoost-Downsampled',\n",
    "             'Multiple model Ensemble Downsampled'\n",
    "             ],\n",
    "    'F1_Score': [\n",
    "         \n",
    "        f1_log,     \n",
    "        f1_rf, \n",
    "        f1_gaussian,          \n",
    "        f1_linear_svc, \n",
    "        f1_dt,\n",
    "        f1_gbt,        \n",
    "        f1_abcl,        \n",
    "        f1_gs,\n",
    "        f1_xgb1,\n",
    "        f1_gs_smote,\n",
    "        f1_log_d,\n",
    "        f1_gaussian_d,\n",
    "        f1_xgb1_d,\n",
    "        f1_gs_d\n",
    "    \n",
    "    ]})\n",
    "models_F1.sort_values(by='F1_Score', ascending=False)"
   ]
  },
  {
   "cell_type": "markdown",
   "id": "9c393ea2",
   "metadata": {},
   "source": [
    "# Metrics Comparison"
   ]
  },
  {
   "cell_type": "code",
   "execution_count": 659,
   "id": "b6ba7801",
   "metadata": {},
   "outputs": [
    {
     "data": {
      "text/html": [
       "<div>\n",
       "<style scoped>\n",
       "    .dataframe tbody tr th:only-of-type {\n",
       "        vertical-align: middle;\n",
       "    }\n",
       "\n",
       "    .dataframe tbody tr th {\n",
       "        vertical-align: top;\n",
       "    }\n",
       "\n",
       "    .dataframe thead th {\n",
       "        text-align: right;\n",
       "    }\n",
       "</style>\n",
       "<table border=\"1\" class=\"dataframe\">\n",
       "  <thead>\n",
       "    <tr style=\"text-align: right;\">\n",
       "      <th></th>\n",
       "      <th>Model Name</th>\n",
       "      <th>Accuracy Score</th>\n",
       "      <th>Kappa Score</th>\n",
       "      <th>Precision Score</th>\n",
       "      <th>Recall Score</th>\n",
       "      <th>F1 score</th>\n",
       "    </tr>\n",
       "  </thead>\n",
       "  <tbody>\n",
       "    <tr>\n",
       "      <th>0</th>\n",
       "      <td>Logistic Regression</td>\n",
       "      <td>89.97</td>\n",
       "      <td>0.281</td>\n",
       "      <td>0.77</td>\n",
       "      <td>0.60</td>\n",
       "      <td>0.63</td>\n",
       "    </tr>\n",
       "    <tr>\n",
       "      <th>1</th>\n",
       "      <td>Naïve Bayes</td>\n",
       "      <td>83.44</td>\n",
       "      <td>0.296</td>\n",
       "      <td>0.63</td>\n",
       "      <td>0.67</td>\n",
       "      <td>0.65</td>\n",
       "    </tr>\n",
       "    <tr>\n",
       "      <th>2</th>\n",
       "      <td>Decision Tree Classifier</td>\n",
       "      <td>85.16</td>\n",
       "      <td>0.223</td>\n",
       "      <td>0.62</td>\n",
       "      <td>0.61</td>\n",
       "      <td>0.61</td>\n",
       "    </tr>\n",
       "    <tr>\n",
       "      <th>3</th>\n",
       "      <td>Linear SVC</td>\n",
       "      <td>90.04</td>\n",
       "      <td>0.265</td>\n",
       "      <td>0.77</td>\n",
       "      <td>0.59</td>\n",
       "      <td>0.62</td>\n",
       "    </tr>\n",
       "    <tr>\n",
       "      <th>4</th>\n",
       "      <td>Random Forest</td>\n",
       "      <td>90.19</td>\n",
       "      <td>0.295</td>\n",
       "      <td>0.77</td>\n",
       "      <td>0.61</td>\n",
       "      <td>0.64</td>\n",
       "    </tr>\n",
       "    <tr>\n",
       "      <th>5</th>\n",
       "      <td>Gradient Boosting Trees</td>\n",
       "      <td>90.38</td>\n",
       "      <td>0.304</td>\n",
       "      <td>0.78</td>\n",
       "      <td>0.61</td>\n",
       "      <td>0.65</td>\n",
       "    </tr>\n",
       "    <tr>\n",
       "      <th>6</th>\n",
       "      <td>Adaboost</td>\n",
       "      <td>87.35</td>\n",
       "      <td>0.252</td>\n",
       "      <td>0.65</td>\n",
       "      <td>0.61</td>\n",
       "      <td>0.62</td>\n",
       "    </tr>\n",
       "    <tr>\n",
       "      <th>7</th>\n",
       "      <td>Multiple Ensemble-Voting</td>\n",
       "      <td>88.35</td>\n",
       "      <td>0.353</td>\n",
       "      <td>0.70</td>\n",
       "      <td>0.66</td>\n",
       "      <td>0.68</td>\n",
       "    </tr>\n",
       "    <tr>\n",
       "      <th>8</th>\n",
       "      <td>XGBoost</td>\n",
       "      <td>89.91</td>\n",
       "      <td>0.317</td>\n",
       "      <td>0.75</td>\n",
       "      <td>0.62</td>\n",
       "      <td>0.65</td>\n",
       "    </tr>\n",
       "    <tr>\n",
       "      <th>9</th>\n",
       "      <td>Multiple Ensemble-Voting-SMOTE</td>\n",
       "      <td>88.85</td>\n",
       "      <td>0.375</td>\n",
       "      <td>0.67</td>\n",
       "      <td>0.72</td>\n",
       "      <td>0.69</td>\n",
       "    </tr>\n",
       "    <tr>\n",
       "      <th>10</th>\n",
       "      <td>Logistic Regression-Downsampled</td>\n",
       "      <td>81.99</td>\n",
       "      <td>0.363</td>\n",
       "      <td>0.71</td>\n",
       "      <td>0.66</td>\n",
       "      <td>0.68</td>\n",
       "    </tr>\n",
       "    <tr>\n",
       "      <th>11</th>\n",
       "      <td>XGBoost-Downsampled</td>\n",
       "      <td>82.28</td>\n",
       "      <td>0.405</td>\n",
       "      <td>0.70</td>\n",
       "      <td>0.70</td>\n",
       "      <td>0.70</td>\n",
       "    </tr>\n",
       "    <tr>\n",
       "      <th>12</th>\n",
       "      <td>Naïve Bayes - DownSampled</td>\n",
       "      <td>78.26</td>\n",
       "      <td>0.302</td>\n",
       "      <td>0.63</td>\n",
       "      <td>0.69</td>\n",
       "      <td>0.65</td>\n",
       "    </tr>\n",
       "    <tr>\n",
       "      <th>13</th>\n",
       "      <td>Multiple Ensemble - Voting - Downsampled</td>\n",
       "      <td>82.13</td>\n",
       "      <td>0.387</td>\n",
       "      <td>0.68</td>\n",
       "      <td>0.70</td>\n",
       "      <td>0.69</td>\n",
       "    </tr>\n",
       "  </tbody>\n",
       "</table>\n",
       "</div>"
      ],
      "text/plain": [
       "                                  Model Name  Accuracy Score  Kappa Score  \\\n",
       "0                        Logistic Regression           89.97        0.281   \n",
       "1                                Naïve Bayes           83.44        0.296   \n",
       "2                   Decision Tree Classifier           85.16        0.223   \n",
       "3                                 Linear SVC           90.04        0.265   \n",
       "4                              Random Forest           90.19        0.295   \n",
       "5                    Gradient Boosting Trees           90.38        0.304   \n",
       "6                                   Adaboost           87.35        0.252   \n",
       "7                   Multiple Ensemble-Voting           88.35        0.353   \n",
       "8                                    XGBoost           89.91        0.317   \n",
       "9             Multiple Ensemble-Voting-SMOTE           88.85        0.375   \n",
       "10           Logistic Regression-Downsampled           81.99        0.363   \n",
       "11                       XGBoost-Downsampled           82.28        0.405   \n",
       "12                 Naïve Bayes - DownSampled           78.26        0.302   \n",
       "13  Multiple Ensemble - Voting - Downsampled           82.13        0.387   \n",
       "\n",
       "    Precision Score  Recall Score  F1 score  \n",
       "0              0.77          0.60      0.63  \n",
       "1              0.63          0.67      0.65  \n",
       "2              0.62          0.61      0.61  \n",
       "3              0.77          0.59      0.62  \n",
       "4              0.77          0.61      0.64  \n",
       "5              0.78          0.61      0.65  \n",
       "6              0.65          0.61      0.62  \n",
       "7              0.70          0.66      0.68  \n",
       "8              0.75          0.62      0.65  \n",
       "9              0.67          0.72      0.69  \n",
       "10             0.71          0.66      0.68  \n",
       "11             0.70          0.70      0.70  \n",
       "12             0.63          0.69      0.65  \n",
       "13             0.68          0.70      0.69  "
      ]
     },
     "execution_count": 659,
     "metadata": {},
     "output_type": "execute_result"
    }
   ],
   "source": [
    "metrics_comparison = pd.read_excel(r\"C:\\Users\\Admin\\Downloads\\gl\\CAPSTONE\\BANK MARKETING\\new dataset with 20 input\\bank-additional\\Metrics DataFrame.xlsx\")\n",
    "metrics_comparison"
   ]
  },
  {
   "cell_type": "markdown",
   "id": "7e6b7f51",
   "metadata": {},
   "source": [
    "### Conclusions\n",
    "- It was a great learning experience working on a financial dataset.\n",
    "- Our dataset consist of categorical and numerical features.\n",
    "- Duration was an important parameter but it cannot be used for prediction as it is not available before making the call\n",
    "- When visualized age in groups, it is found that clients with age less than 30 and greater than 60 are less contacted through   the campaign but have a higher success rate.\n",
    "- The biggest issue with the dataset was a imbalanced one with proportion of 89:12\n",
    "- The number of datapoints is also aroud 42000 which made the balancing difficult\n",
    "- Different machine learning models are trained and tested on the dataset. \n",
    "- Different models are summarized in table above.\n",
    "- If accuracy was taken as the metric, Gradient boosting trees and Random Forest are showing Best performances. \n",
    "- If F1 score was taken as the metric, XGBoost with Downsamples train and Mulitple Ensemble model after SMOTE are showing Best performances\n",
    "- The Methods like SMOTE and Downsampling influenced on improving the F1 score.\n",
    "- Based on the Subject Matter Expert we can decide on which metric to be used Precision or Recall and try to improce that single metric to improve the model performance in further studies\n",
    "- The Tradeoff between Precision and Recall is inevitable in these kind of imbalanced problems\n"
   ]
  },
  {
   "cell_type": "code",
   "execution_count": null,
   "id": "530023a8",
   "metadata": {},
   "outputs": [],
   "source": []
  }
 ],
 "metadata": {
  "kernelspec": {
   "display_name": "Python 3 (ipykernel)",
   "language": "python",
   "name": "python3"
  },
  "language_info": {
   "codemirror_mode": {
    "name": "ipython",
    "version": 3
   },
   "file_extension": ".py",
   "mimetype": "text/x-python",
   "name": "python",
   "nbconvert_exporter": "python",
   "pygments_lexer": "ipython3",
   "version": "3.9.12"
  }
 },
 "nbformat": 4,
 "nbformat_minor": 5
}
